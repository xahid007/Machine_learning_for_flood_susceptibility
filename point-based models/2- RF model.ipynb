{
  "cells": [
    {
      "cell_type": "code",
      "execution_count": null,
      "id": "0d7c337d",
      "metadata": {
        "id": "0d7c337d"
      },
      "outputs": [],
      "source": [
        "import numpy as np\n",
        "import cv2\n",
        "import pandas as pd\n",
        "from matplotlib import pyplot as plt\n",
        "import seaborn as sns\n",
        "import geopandas as gpd"
      ]
    },
    {
      "cell_type": "code",
      "source": [
        "%cd /content/Machine_learning_for_flood_susceptibility\n"
      ],
      "metadata": {
        "id": "3A0atIyzgB7k",
        "outputId": "cc97236d-07d2-44ab-b6dc-021be2f58fc4",
        "colab": {
          "base_uri": "https://localhost:8080/"
        }
      },
      "id": "3A0atIyzgB7k",
      "execution_count": 26,
      "outputs": [
        {
          "output_type": "stream",
          "name": "stdout",
          "text": [
            "/content/Machine_learning_for_flood_susceptibility\n"
          ]
        }
      ]
    },
    {
      "cell_type": "code",
      "source": [
        "!git pull origin main"
      ],
      "metadata": {
        "id": "y7_BsqJ-gTCi",
        "outputId": "61b26108-c697-4a77-e1a0-b43025e5cb37",
        "colab": {
          "base_uri": "https://localhost:8080/"
        }
      },
      "id": "y7_BsqJ-gTCi",
      "execution_count": 27,
      "outputs": [
        {
          "output_type": "stream",
          "name": "stdout",
          "text": [
            "remote: Enumerating objects: 12, done.\u001b[K\n",
            "remote: Counting objects:   8% (1/12)\u001b[K\rremote: Counting objects:  16% (2/12)\u001b[K\rremote: Counting objects:  25% (3/12)\u001b[K\rremote: Counting objects:  33% (4/12)\u001b[K\rremote: Counting objects:  41% (5/12)\u001b[K\rremote: Counting objects:  50% (6/12)\u001b[K\rremote: Counting objects:  58% (7/12)\u001b[K\rremote: Counting objects:  66% (8/12)\u001b[K\rremote: Counting objects:  75% (9/12)\u001b[K\rremote: Counting objects:  83% (10/12)\u001b[K\rremote: Counting objects:  91% (11/12)\u001b[K\rremote: Counting objects: 100% (12/12)\u001b[K\rremote: Counting objects: 100% (12/12), done.\u001b[K\n",
            "remote: Compressing objects:  11% (1/9)\u001b[K\rremote: Compressing objects:  22% (2/9)\u001b[K\rremote: Compressing objects:  33% (3/9)\u001b[K\rremote: Compressing objects:  44% (4/9)\u001b[K\rremote: Compressing objects:  55% (5/9)\u001b[K\rremote: Compressing objects:  66% (6/9)\u001b[K\rremote: Compressing objects:  77% (7/9)\u001b[K\rremote: Compressing objects:  88% (8/9)\u001b[K\rremote: Compressing objects: 100% (9/9)\u001b[K\rremote: Compressing objects: 100% (9/9), done.\u001b[K\n",
            "remote: Total 10 (delta 4), reused 0 (delta 0), pack-reused 0\u001b[K\n",
            "Unpacking objects:  10% (1/10)\rUnpacking objects:  20% (2/10)\rUnpacking objects:  30% (3/10)\rUnpacking objects:  40% (4/10)\rUnpacking objects:  50% (5/10)\rUnpacking objects:  60% (6/10)\rUnpacking objects:  70% (7/10)\rUnpacking objects:  80% (8/10)\rUnpacking objects:  90% (9/10)\rUnpacking objects: 100% (10/10)\rUnpacking objects: 100% (10/10), 2.64 KiB | 676.00 KiB/s, done.\n",
            "From https://github.com/xahid007/Machine_learning_for_flood_susceptibility\n",
            " * branch            main       -> FETCH_HEAD\n",
            "   0597952..8e28000  main       -> origin/main\n",
            "Updating 0597952..8e28000\n",
            "Fast-forward\n",
            " point-based models/Output_1/points_data.cpg     |   1 \u001b[32m+\u001b[m\n",
            " point-based models/Output_1/points_data.dbf     | Bin \u001b[31m0\u001b[m -> \u001b[32m18646\u001b[m bytes\n",
            " point-based models/Output_1/points_data.shp     | Bin \u001b[31m0\u001b[m -> \u001b[32m3124\u001b[m bytes\n",
            " point-based models/Output_1/points_data.shx     | Bin \u001b[31m0\u001b[m -> \u001b[32m772\u001b[m bytes\n",
            " point-based models/output from Data Preparation |   1 \u001b[32m+\u001b[m\n",
            " 5 files changed, 2 insertions(+)\n",
            " create mode 100644 point-based models/Output_1/points_data.cpg\n",
            " create mode 100644 point-based models/Output_1/points_data.dbf\n",
            " create mode 100644 point-based models/Output_1/points_data.shp\n",
            " create mode 100644 point-based models/Output_1/points_data.shx\n",
            " create mode 100644 point-based models/output from Data Preparation\n"
          ]
        }
      ]
    },
    {
      "cell_type": "code",
      "execution_count": 28,
      "id": "9422a04d",
      "metadata": {
        "id": "9422a04d",
        "outputId": "5a15b425-bc29-4f49-a9de-accc41470698",
        "colab": {
          "base_uri": "https://localhost:8080/",
          "height": 206
        }
      },
      "outputs": [
        {
          "output_type": "execute_result",
          "data": {
            "text/plain": [
              "   Label  DEM  Slope  Aspect  Curvature  TWI  DTDrainage  DTRoad  DTRiver  CN  \\\n",
              "0      0    0      0       0          0    0           0       0        0   0   \n",
              "1      0    0      0       0          0    0           0       0        0   0   \n",
              "2      0    0      0       0          0    0           0       0        0   0   \n",
              "3      0    0      0       0          0    0           0       0        0   0   \n",
              "4      0    0      0       0          0    0           0       0        0   0   \n",
              "\n",
              "   AP  FP                                geometry  \n",
              "0   0   0  POINT Z (382328.441 5814043.781 0.000)  \n",
              "1   0   0  POINT Z (382580.854 5814097.359 0.000)  \n",
              "2   0   0  POINT Z (382758.655 5814802.211 0.000)  \n",
              "3   0   0  POINT Z (382782.361 5815220.465 0.000)  \n",
              "4   0   0  POINT Z (382814.111 5816035.383 0.000)  "
            ],
            "text/html": [
              "\n",
              "  <div id=\"df-78c2ff9b-223a-4699-ae5b-456000ab6744\" class=\"colab-df-container\">\n",
              "    <div>\n",
              "<style scoped>\n",
              "    .dataframe tbody tr th:only-of-type {\n",
              "        vertical-align: middle;\n",
              "    }\n",
              "\n",
              "    .dataframe tbody tr th {\n",
              "        vertical-align: top;\n",
              "    }\n",
              "\n",
              "    .dataframe thead th {\n",
              "        text-align: right;\n",
              "    }\n",
              "</style>\n",
              "<table border=\"1\" class=\"dataframe\">\n",
              "  <thead>\n",
              "    <tr style=\"text-align: right;\">\n",
              "      <th></th>\n",
              "      <th>Label</th>\n",
              "      <th>DEM</th>\n",
              "      <th>Slope</th>\n",
              "      <th>Aspect</th>\n",
              "      <th>Curvature</th>\n",
              "      <th>TWI</th>\n",
              "      <th>DTDrainage</th>\n",
              "      <th>DTRoad</th>\n",
              "      <th>DTRiver</th>\n",
              "      <th>CN</th>\n",
              "      <th>AP</th>\n",
              "      <th>FP</th>\n",
              "      <th>geometry</th>\n",
              "    </tr>\n",
              "  </thead>\n",
              "  <tbody>\n",
              "    <tr>\n",
              "      <th>0</th>\n",
              "      <td>0</td>\n",
              "      <td>0</td>\n",
              "      <td>0</td>\n",
              "      <td>0</td>\n",
              "      <td>0</td>\n",
              "      <td>0</td>\n",
              "      <td>0</td>\n",
              "      <td>0</td>\n",
              "      <td>0</td>\n",
              "      <td>0</td>\n",
              "      <td>0</td>\n",
              "      <td>0</td>\n",
              "      <td>POINT Z (382328.441 5814043.781 0.000)</td>\n",
              "    </tr>\n",
              "    <tr>\n",
              "      <th>1</th>\n",
              "      <td>0</td>\n",
              "      <td>0</td>\n",
              "      <td>0</td>\n",
              "      <td>0</td>\n",
              "      <td>0</td>\n",
              "      <td>0</td>\n",
              "      <td>0</td>\n",
              "      <td>0</td>\n",
              "      <td>0</td>\n",
              "      <td>0</td>\n",
              "      <td>0</td>\n",
              "      <td>0</td>\n",
              "      <td>POINT Z (382580.854 5814097.359 0.000)</td>\n",
              "    </tr>\n",
              "    <tr>\n",
              "      <th>2</th>\n",
              "      <td>0</td>\n",
              "      <td>0</td>\n",
              "      <td>0</td>\n",
              "      <td>0</td>\n",
              "      <td>0</td>\n",
              "      <td>0</td>\n",
              "      <td>0</td>\n",
              "      <td>0</td>\n",
              "      <td>0</td>\n",
              "      <td>0</td>\n",
              "      <td>0</td>\n",
              "      <td>0</td>\n",
              "      <td>POINT Z (382758.655 5814802.211 0.000)</td>\n",
              "    </tr>\n",
              "    <tr>\n",
              "      <th>3</th>\n",
              "      <td>0</td>\n",
              "      <td>0</td>\n",
              "      <td>0</td>\n",
              "      <td>0</td>\n",
              "      <td>0</td>\n",
              "      <td>0</td>\n",
              "      <td>0</td>\n",
              "      <td>0</td>\n",
              "      <td>0</td>\n",
              "      <td>0</td>\n",
              "      <td>0</td>\n",
              "      <td>0</td>\n",
              "      <td>POINT Z (382782.361 5815220.465 0.000)</td>\n",
              "    </tr>\n",
              "    <tr>\n",
              "      <th>4</th>\n",
              "      <td>0</td>\n",
              "      <td>0</td>\n",
              "      <td>0</td>\n",
              "      <td>0</td>\n",
              "      <td>0</td>\n",
              "      <td>0</td>\n",
              "      <td>0</td>\n",
              "      <td>0</td>\n",
              "      <td>0</td>\n",
              "      <td>0</td>\n",
              "      <td>0</td>\n",
              "      <td>0</td>\n",
              "      <td>POINT Z (382814.111 5816035.383 0.000)</td>\n",
              "    </tr>\n",
              "  </tbody>\n",
              "</table>\n",
              "</div>\n",
              "    <div class=\"colab-df-buttons\">\n",
              "\n",
              "  <div class=\"colab-df-container\">\n",
              "    <button class=\"colab-df-convert\" onclick=\"convertToInteractive('df-78c2ff9b-223a-4699-ae5b-456000ab6744')\"\n",
              "            title=\"Convert this dataframe to an interactive table.\"\n",
              "            style=\"display:none;\">\n",
              "\n",
              "  <svg xmlns=\"http://www.w3.org/2000/svg\" height=\"24px\" viewBox=\"0 -960 960 960\">\n",
              "    <path d=\"M120-120v-720h720v720H120Zm60-500h600v-160H180v160Zm220 220h160v-160H400v160Zm0 220h160v-160H400v160ZM180-400h160v-160H180v160Zm440 0h160v-160H620v160ZM180-180h160v-160H180v160Zm440 0h160v-160H620v160Z\"/>\n",
              "  </svg>\n",
              "    </button>\n",
              "\n",
              "  <style>\n",
              "    .colab-df-container {\n",
              "      display:flex;\n",
              "      gap: 12px;\n",
              "    }\n",
              "\n",
              "    .colab-df-convert {\n",
              "      background-color: #E8F0FE;\n",
              "      border: none;\n",
              "      border-radius: 50%;\n",
              "      cursor: pointer;\n",
              "      display: none;\n",
              "      fill: #1967D2;\n",
              "      height: 32px;\n",
              "      padding: 0 0 0 0;\n",
              "      width: 32px;\n",
              "    }\n",
              "\n",
              "    .colab-df-convert:hover {\n",
              "      background-color: #E2EBFA;\n",
              "      box-shadow: 0px 1px 2px rgba(60, 64, 67, 0.3), 0px 1px 3px 1px rgba(60, 64, 67, 0.15);\n",
              "      fill: #174EA6;\n",
              "    }\n",
              "\n",
              "    .colab-df-buttons div {\n",
              "      margin-bottom: 4px;\n",
              "    }\n",
              "\n",
              "    [theme=dark] .colab-df-convert {\n",
              "      background-color: #3B4455;\n",
              "      fill: #D2E3FC;\n",
              "    }\n",
              "\n",
              "    [theme=dark] .colab-df-convert:hover {\n",
              "      background-color: #434B5C;\n",
              "      box-shadow: 0px 1px 3px 1px rgba(0, 0, 0, 0.15);\n",
              "      filter: drop-shadow(0px 1px 2px rgba(0, 0, 0, 0.3));\n",
              "      fill: #FFFFFF;\n",
              "    }\n",
              "  </style>\n",
              "\n",
              "    <script>\n",
              "      const buttonEl =\n",
              "        document.querySelector('#df-78c2ff9b-223a-4699-ae5b-456000ab6744 button.colab-df-convert');\n",
              "      buttonEl.style.display =\n",
              "        google.colab.kernel.accessAllowed ? 'block' : 'none';\n",
              "\n",
              "      async function convertToInteractive(key) {\n",
              "        const element = document.querySelector('#df-78c2ff9b-223a-4699-ae5b-456000ab6744');\n",
              "        const dataTable =\n",
              "          await google.colab.kernel.invokeFunction('convertToInteractive',\n",
              "                                                    [key], {});\n",
              "        if (!dataTable) return;\n",
              "\n",
              "        const docLinkHtml = 'Like what you see? Visit the ' +\n",
              "          '<a target=\"_blank\" href=https://colab.research.google.com/notebooks/data_table.ipynb>data table notebook</a>'\n",
              "          + ' to learn more about interactive tables.';\n",
              "        element.innerHTML = '';\n",
              "        dataTable['output_type'] = 'display_data';\n",
              "        await google.colab.output.renderOutput(dataTable, element);\n",
              "        const docLink = document.createElement('div');\n",
              "        docLink.innerHTML = docLinkHtml;\n",
              "        element.appendChild(docLink);\n",
              "      }\n",
              "    </script>\n",
              "  </div>\n",
              "\n",
              "\n",
              "<div id=\"df-6e450c69-276c-4177-9de5-b43334a90ae9\">\n",
              "  <button class=\"colab-df-quickchart\" onclick=\"quickchart('df-6e450c69-276c-4177-9de5-b43334a90ae9')\"\n",
              "            title=\"Suggest charts\"\n",
              "            style=\"display:none;\">\n",
              "\n",
              "<svg xmlns=\"http://www.w3.org/2000/svg\" height=\"24px\"viewBox=\"0 0 24 24\"\n",
              "     width=\"24px\">\n",
              "    <g>\n",
              "        <path d=\"M19 3H5c-1.1 0-2 .9-2 2v14c0 1.1.9 2 2 2h14c1.1 0 2-.9 2-2V5c0-1.1-.9-2-2-2zM9 17H7v-7h2v7zm4 0h-2V7h2v10zm4 0h-2v-4h2v4z\"/>\n",
              "    </g>\n",
              "</svg>\n",
              "  </button>\n",
              "\n",
              "<style>\n",
              "  .colab-df-quickchart {\n",
              "      --bg-color: #E8F0FE;\n",
              "      --fill-color: #1967D2;\n",
              "      --hover-bg-color: #E2EBFA;\n",
              "      --hover-fill-color: #174EA6;\n",
              "      --disabled-fill-color: #AAA;\n",
              "      --disabled-bg-color: #DDD;\n",
              "  }\n",
              "\n",
              "  [theme=dark] .colab-df-quickchart {\n",
              "      --bg-color: #3B4455;\n",
              "      --fill-color: #D2E3FC;\n",
              "      --hover-bg-color: #434B5C;\n",
              "      --hover-fill-color: #FFFFFF;\n",
              "      --disabled-bg-color: #3B4455;\n",
              "      --disabled-fill-color: #666;\n",
              "  }\n",
              "\n",
              "  .colab-df-quickchart {\n",
              "    background-color: var(--bg-color);\n",
              "    border: none;\n",
              "    border-radius: 50%;\n",
              "    cursor: pointer;\n",
              "    display: none;\n",
              "    fill: var(--fill-color);\n",
              "    height: 32px;\n",
              "    padding: 0;\n",
              "    width: 32px;\n",
              "  }\n",
              "\n",
              "  .colab-df-quickchart:hover {\n",
              "    background-color: var(--hover-bg-color);\n",
              "    box-shadow: 0 1px 2px rgba(60, 64, 67, 0.3), 0 1px 3px 1px rgba(60, 64, 67, 0.15);\n",
              "    fill: var(--button-hover-fill-color);\n",
              "  }\n",
              "\n",
              "  .colab-df-quickchart-complete:disabled,\n",
              "  .colab-df-quickchart-complete:disabled:hover {\n",
              "    background-color: var(--disabled-bg-color);\n",
              "    fill: var(--disabled-fill-color);\n",
              "    box-shadow: none;\n",
              "  }\n",
              "\n",
              "  .colab-df-spinner {\n",
              "    border: 2px solid var(--fill-color);\n",
              "    border-color: transparent;\n",
              "    border-bottom-color: var(--fill-color);\n",
              "    animation:\n",
              "      spin 1s steps(1) infinite;\n",
              "  }\n",
              "\n",
              "  @keyframes spin {\n",
              "    0% {\n",
              "      border-color: transparent;\n",
              "      border-bottom-color: var(--fill-color);\n",
              "      border-left-color: var(--fill-color);\n",
              "    }\n",
              "    20% {\n",
              "      border-color: transparent;\n",
              "      border-left-color: var(--fill-color);\n",
              "      border-top-color: var(--fill-color);\n",
              "    }\n",
              "    30% {\n",
              "      border-color: transparent;\n",
              "      border-left-color: var(--fill-color);\n",
              "      border-top-color: var(--fill-color);\n",
              "      border-right-color: var(--fill-color);\n",
              "    }\n",
              "    40% {\n",
              "      border-color: transparent;\n",
              "      border-right-color: var(--fill-color);\n",
              "      border-top-color: var(--fill-color);\n",
              "    }\n",
              "    60% {\n",
              "      border-color: transparent;\n",
              "      border-right-color: var(--fill-color);\n",
              "    }\n",
              "    80% {\n",
              "      border-color: transparent;\n",
              "      border-right-color: var(--fill-color);\n",
              "      border-bottom-color: var(--fill-color);\n",
              "    }\n",
              "    90% {\n",
              "      border-color: transparent;\n",
              "      border-bottom-color: var(--fill-color);\n",
              "    }\n",
              "  }\n",
              "</style>\n",
              "\n",
              "  <script>\n",
              "    async function quickchart(key) {\n",
              "      const quickchartButtonEl =\n",
              "        document.querySelector('#' + key + ' button');\n",
              "      quickchartButtonEl.disabled = true;  // To prevent multiple clicks.\n",
              "      quickchartButtonEl.classList.add('colab-df-spinner');\n",
              "      try {\n",
              "        const charts = await google.colab.kernel.invokeFunction(\n",
              "            'suggestCharts', [key], {});\n",
              "      } catch (error) {\n",
              "        console.error('Error during call to suggestCharts:', error);\n",
              "      }\n",
              "      quickchartButtonEl.classList.remove('colab-df-spinner');\n",
              "      quickchartButtonEl.classList.add('colab-df-quickchart-complete');\n",
              "    }\n",
              "    (() => {\n",
              "      let quickchartButtonEl =\n",
              "        document.querySelector('#df-6e450c69-276c-4177-9de5-b43334a90ae9 button');\n",
              "      quickchartButtonEl.style.display =\n",
              "        google.colab.kernel.accessAllowed ? 'block' : 'none';\n",
              "    })();\n",
              "  </script>\n",
              "</div>\n",
              "    </div>\n",
              "  </div>\n"
            ],
            "application/vnd.google.colaboratory.intrinsic+json": {
              "type": "dataframe",
              "variable_name": "df",
              "summary": "{\n  \"name\": \"df\",\n  \"rows\": 84,\n  \"fields\": [\n    {\n      \"column\": \"Label\",\n      \"properties\": {\n        \"dtype\": \"number\",\n        \"std\": 0,\n        \"min\": 0,\n        \"max\": 1,\n        \"num_unique_values\": 2,\n        \"samples\": [\n          1,\n          0\n        ],\n        \"semantic_type\": \"\",\n        \"description\": \"\"\n      }\n    },\n    {\n      \"column\": \"DEM\",\n      \"properties\": {\n        \"dtype\": \"number\",\n        \"std\": 0,\n        \"min\": 0,\n        \"max\": 0,\n        \"num_unique_values\": 1,\n        \"samples\": [\n          0\n        ],\n        \"semantic_type\": \"\",\n        \"description\": \"\"\n      }\n    },\n    {\n      \"column\": \"Slope\",\n      \"properties\": {\n        \"dtype\": \"number\",\n        \"std\": 0,\n        \"min\": 0,\n        \"max\": 0,\n        \"num_unique_values\": 1,\n        \"samples\": [\n          0\n        ],\n        \"semantic_type\": \"\",\n        \"description\": \"\"\n      }\n    },\n    {\n      \"column\": \"Aspect\",\n      \"properties\": {\n        \"dtype\": \"number\",\n        \"std\": 0,\n        \"min\": 0,\n        \"max\": 0,\n        \"num_unique_values\": 1,\n        \"samples\": [\n          0\n        ],\n        \"semantic_type\": \"\",\n        \"description\": \"\"\n      }\n    },\n    {\n      \"column\": \"Curvature\",\n      \"properties\": {\n        \"dtype\": \"number\",\n        \"std\": 0,\n        \"min\": 0,\n        \"max\": 0,\n        \"num_unique_values\": 1,\n        \"samples\": [\n          0\n        ],\n        \"semantic_type\": \"\",\n        \"description\": \"\"\n      }\n    },\n    {\n      \"column\": \"TWI\",\n      \"properties\": {\n        \"dtype\": \"number\",\n        \"std\": 0,\n        \"min\": 0,\n        \"max\": 0,\n        \"num_unique_values\": 1,\n        \"samples\": [\n          0\n        ],\n        \"semantic_type\": \"\",\n        \"description\": \"\"\n      }\n    },\n    {\n      \"column\": \"DTDrainage\",\n      \"properties\": {\n        \"dtype\": \"number\",\n        \"std\": 0,\n        \"min\": 0,\n        \"max\": 0,\n        \"num_unique_values\": 1,\n        \"samples\": [\n          0\n        ],\n        \"semantic_type\": \"\",\n        \"description\": \"\"\n      }\n    },\n    {\n      \"column\": \"DTRoad\",\n      \"properties\": {\n        \"dtype\": \"number\",\n        \"std\": 0,\n        \"min\": 0,\n        \"max\": 0,\n        \"num_unique_values\": 1,\n        \"samples\": [\n          0\n        ],\n        \"semantic_type\": \"\",\n        \"description\": \"\"\n      }\n    },\n    {\n      \"column\": \"DTRiver\",\n      \"properties\": {\n        \"dtype\": \"number\",\n        \"std\": 0,\n        \"min\": 0,\n        \"max\": 0,\n        \"num_unique_values\": 1,\n        \"samples\": [\n          0\n        ],\n        \"semantic_type\": \"\",\n        \"description\": \"\"\n      }\n    },\n    {\n      \"column\": \"CN\",\n      \"properties\": {\n        \"dtype\": \"number\",\n        \"std\": 0,\n        \"min\": 0,\n        \"max\": 0,\n        \"num_unique_values\": 1,\n        \"samples\": [\n          0\n        ],\n        \"semantic_type\": \"\",\n        \"description\": \"\"\n      }\n    },\n    {\n      \"column\": \"AP\",\n      \"properties\": {\n        \"dtype\": \"number\",\n        \"std\": 0,\n        \"min\": 0,\n        \"max\": 0,\n        \"num_unique_values\": 1,\n        \"samples\": [\n          0\n        ],\n        \"semantic_type\": \"\",\n        \"description\": \"\"\n      }\n    },\n    {\n      \"column\": \"FP\",\n      \"properties\": {\n        \"dtype\": \"number\",\n        \"std\": 0,\n        \"min\": 0,\n        \"max\": 0,\n        \"num_unique_values\": 1,\n        \"samples\": [\n          0\n        ],\n        \"semantic_type\": \"\",\n        \"description\": \"\"\n      }\n    },\n    {\n      \"column\": \"geometry\",\n      \"properties\": {\n        \"dtype\": \"geometry\",\n        \"num_unique_values\": 84,\n        \"samples\": [\n          \"POINT Z (389468.9839123867 5816233.480948835 0)\"\n        ],\n        \"semantic_type\": \"\",\n        \"description\": \"\"\n      }\n    }\n  ]\n}"
            }
          },
          "metadata": {},
          "execution_count": 28
        }
      ],
      "source": [
        "# Read the shapefile or pickle which we created in last article\n",
        "df=gpd.read_file(\"/content/Machine_learning_for_flood_susceptibility/point-based models/Output_1/points_data.shp\")\n",
        "# df=pd.read_pickle(\"points_data.pkl\") # in case of pickle\n",
        "df.head()"
      ]
    },
    {
      "cell_type": "code",
      "execution_count": null,
      "id": "ca6d4605",
      "metadata": {
        "id": "ca6d4605"
      },
      "outputs": [],
      "source": [
        "#check that there is no no data values in the dataset\n",
        "print(df.isnull().sum())\n",
        "#df = df.dropna() # use this to remove rows with no data values"
      ]
    },
    {
      "cell_type": "code",
      "execution_count": null,
      "id": "ccf57d46",
      "metadata": {
        "id": "ccf57d46"
      },
      "outputs": [],
      "source": [
        "#Understand the data\n",
        "#Here we can see that we have a balanced dataset (equal number of flooded and non flooeded locations\n",
        "sns.countplot(x=\"Label\", data=df) #0 - Notflooded   1 - Flooded"
      ]
    },
    {
      "cell_type": "code",
      "execution_count": null,
      "id": "47ee6ae9",
      "metadata": {
        "id": "47ee6ae9"
      },
      "outputs": [],
      "source": [
        "# show the correlation matric for the dataset\n",
        "corrMatrix = df.corr()\n",
        "fig, ax = plt.subplots(figsize=(10,10))         # Sample figsize in inches\n",
        "#sns.heatmap(df.iloc[:, 1:6:], annot=True, linewidths=.5, ax=ax)\n",
        "sns.heatmap(corrMatrix, annot=True, linewidths=.5, ax=ax)"
      ]
    },
    {
      "cell_type": "code",
      "execution_count": null,
      "id": "ba17cef2",
      "metadata": {
        "id": "ba17cef2"
      },
      "outputs": [],
      "source": [
        "#Define the dependent variable that needs to be predicted (labels)\n",
        "Y = df[\"Label\"].values\n",
        "\n",
        "#Define the independent variables. Let's also drop gemotry and label\n",
        "X = df.drop(labels = [\"Label\", \"geometry\"], axis=1)\n",
        "features_list = list(X.columns)  #List features so we can rank their importance later"
      ]
    },
    {
      "cell_type": "code",
      "execution_count": null,
      "id": "4afd56bb",
      "metadata": {
        "id": "4afd56bb"
      },
      "outputs": [],
      "source": [
        "#Split data into train (60 %), validate (20 %) and test (20%) to verify accuracy after fitting the model.\n",
        "# training data is used to train the model\n",
        "# validation data is used for hyperparameter tuning\n",
        "# testing data is used to test the model\n",
        "\n",
        "from sklearn.model_selection import train_test_split\n",
        "X_train_val, X_test, y_train_val, y_test = train_test_split(X, Y, test_size=0.2,shuffle=True, random_state=42)\n",
        "X_train, X_val, y_train, y_val = train_test_split(X_train_val, y_train_val, test_size=0.25,shuffle=True, random_state=42)"
      ]
    },
    {
      "cell_type": "code",
      "execution_count": null,
      "id": "52057fd8",
      "metadata": {
        "id": "52057fd8"
      },
      "outputs": [],
      "source": [
        "#RANDOM FOREST\n",
        "from sklearn.ensemble import RandomForestClassifier\n",
        "model = RandomForestClassifier(random_state = 42) # I am using the default values of the parameters.\n",
        "\n",
        "# Train the model on training data\n",
        "model.fit(X_train, y_train)"
      ]
    },
    {
      "cell_type": "code",
      "execution_count": null,
      "id": "9f8b7a5d",
      "metadata": {
        "id": "9f8b7a5d"
      },
      "outputs": [],
      "source": [
        "# make prediction for the test dataset.\n",
        "prediction = model.predict(X_test)\n",
        "\n",
        "# The prediction values are either 1 (Flooded) or 0 (Non-Flooded)\n",
        "prediction"
      ]
    },
    {
      "cell_type": "code",
      "execution_count": null,
      "id": "64a63c1c",
      "metadata": {
        "id": "64a63c1c"
      },
      "outputs": [],
      "source": [
        "# The AUC is considered one of the best performance indices\n",
        "# We can plot the curve and calculate it\n",
        "from sklearn.metrics import plot_roc_curve\n",
        "\n",
        "ax = plt.gca()\n",
        "model_disp = plot_roc_curve(model, X_test, y_test, ax=ax, alpha=0.8)\n",
        "plt.show()"
      ]
    },
    {
      "cell_type": "markdown",
      "id": "8e27c59f",
      "metadata": {
        "id": "8e27c59f"
      },
      "source": [
        "## Map the whole study area"
      ]
    },
    {
      "cell_type": "code",
      "execution_count": null,
      "id": "a5de425f",
      "metadata": {
        "id": "a5de425f"
      },
      "outputs": [],
      "source": [
        "# Read shapefile for the whole study area\n",
        "df_SA=gpd.read_file(\"Study_area.shp\")\n",
        "df_SA.head() # make sure that the dataset has the same column arrangement as the training dataset\n",
        "\n"
      ]
    },
    {
      "cell_type": "code",
      "execution_count": null,
      "id": "f6a0a863",
      "metadata": {
        "id": "f6a0a863"
      },
      "outputs": [],
      "source": [
        "X_SA= df_SA.drop(labels = [\"geometry\"], axis=1) # we need to remove all the columns except the predictive features\n",
        "X_SA.head()\n"
      ]
    },
    {
      "cell_type": "code",
      "execution_count": null,
      "id": "6a299911",
      "metadata": {
        "id": "6a299911"
      },
      "outputs": [],
      "source": [
        "prediction_SA = model.predict(X_SA) # predict if the location is flooded (1) or not flooded (0)\n",
        "\n"
      ]
    },
    {
      "cell_type": "code",
      "execution_count": null,
      "id": "f440c5a2",
      "metadata": {
        "id": "f440c5a2"
      },
      "outputs": [],
      "source": [
        "# In order to map the flood susceptibility we need to cacluate the probability of being flooded\n",
        "prediction_prob=model.predict_proba(X_SA) # This function return an array with lists\n",
        "# each list has two values [probability of being not flooded , probability of being flooded]\n",
        "\n",
        "# We need only the probablity of being flooded\n",
        "# We need to add the value coressponding to each point\n",
        "\n",
        "df_SA['FSM']= prediction_prob[:,1]"
      ]
    },
    {
      "cell_type": "code",
      "execution_count": null,
      "id": "f81b7d11",
      "metadata": {
        "id": "f81b7d11"
      },
      "outputs": [],
      "source": [
        "# Save the dataframe tp a shapefile in case of converting the points to raster using QGIS or Arcmap\n",
        "df_SA.to_file(\"FSM.shp\")"
      ]
    },
    {
      "cell_type": "code",
      "execution_count": null,
      "id": "cfa8f7bf",
      "metadata": {
        "id": "cfa8f7bf"
      },
      "outputs": [],
      "source": [
        "# Converting the point shapefile to raster.\n",
        "# We will use the model prediction (column FSM in df_SA to make a raster)\n",
        "from geocube.api.core import make_geocube\n",
        "import rasterio as rio\n",
        "\n",
        "out_grid= make_geocube(vector_data=df_SA, measurements=[\"FSM\"], resolution=(-1, 1)) #for most crs negative comes first in resolution\n",
        "out_grid[\"FSM\"].rio.to_raster(\"Flood_susceptibility.tif\")"
      ]
    }
  ],
  "metadata": {
    "kernelspec": {
      "display_name": "Python 3 (ipykernel)",
      "language": "python",
      "name": "python3"
    },
    "language_info": {
      "codemirror_mode": {
        "name": "ipython",
        "version": 3
      },
      "file_extension": ".py",
      "mimetype": "text/x-python",
      "name": "python",
      "nbconvert_exporter": "python",
      "pygments_lexer": "ipython3",
      "version": "3.10.5"
    },
    "colab": {
      "provenance": []
    }
  },
  "nbformat": 4,
  "nbformat_minor": 5
}